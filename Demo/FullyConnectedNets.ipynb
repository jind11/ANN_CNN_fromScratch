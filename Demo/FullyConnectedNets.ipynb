{
 "cells": [
  {
   "cell_type": "markdown",
   "metadata": {},
   "source": [
    "# Fully-Connected Neural Network\n",
    "\n",
    "This is the demo that constructs a full connected neural network model to do classification on the CIFAR10 dataset.\n",
    "  "
   ]
  },
  {
   "cell_type": "markdown",
   "metadata": {},
   "source": [
    "# Load libraries and data"
   ]
  },
  {
   "cell_type": "code",
   "execution_count": 15,
   "metadata": {
    "collapsed": false
   },
   "outputs": [
    {
     "name": "stdout",
     "output_type": "stream",
     "text": [
      "The autoreload extension is already loaded. To reload it, use:\n",
      "  %reload_ext autoreload\n"
     ]
    }
   ],
   "source": [
    "# As usual, a bit of setup\n",
    "\n",
    "import time\n",
    "import numpy as np\n",
    "import matplotlib.pyplot as plt\n",
    "import sys\n",
    "sys.path.append('../')\n",
    "from Model.fc_net import *\n",
    "from Dataset.data_utils import get_CIFAR10_data\n",
    "from Solver.solver import Solver\n",
    "\n",
    "%matplotlib inline\n",
    "plt.rcParams['figure.figsize'] = (10.0, 8.0) # set default size of plots\n",
    "plt.rcParams['image.interpolation'] = 'nearest'\n",
    "plt.rcParams['image.cmap'] = 'gray'\n",
    "\n",
    "# for auto-reloading external modules\n",
    "# see http://stackoverflow.com/questions/1907993/autoreload-of-modules-in-ipython\n",
    "%load_ext autoreload\n",
    "%autoreload 2\n",
    "\n",
    "def rel_error(x, y):\n",
    "  \"\"\" returns relative error \"\"\"\n",
    "  return np.max(np.abs(x - y) / (np.maximum(1e-8, np.abs(x) + np.abs(y))))"
   ]
  },
  {
   "cell_type": "code",
   "execution_count": 16,
   "metadata": {
    "collapsed": false
   },
   "outputs": [
    {
     "name": "stdout",
     "output_type": "stream",
     "text": [
      "X_val:  (1000, 3, 32, 32)\n",
      "X_train:  (49000, 3, 32, 32)\n",
      "X_test:  (1000, 3, 32, 32)\n",
      "y_val:  (1000,)\n",
      "y_train:  (49000,)\n",
      "y_test:  (1000,)\n"
     ]
    }
   ],
   "source": [
    "# Load the (preprocessed) CIFAR10 data.\n",
    "\n",
    "data = get_CIFAR10_data()\n",
    "for k, v in data.iteritems():\n",
    "  print '%s: ' % k, v.shape"
   ]
  },
  {
   "cell_type": "markdown",
   "metadata": {},
   "source": [
    "# Train a good model!"
   ]
  },
  {
   "cell_type": "code",
   "execution_count": 25,
   "metadata": {
    "collapsed": false,
    "scrolled": false
   },
   "outputs": [
    {
     "name": "stdout",
     "output_type": "stream",
     "text": [
      "(Iteration 1 / 6125) loss: 2.323347\n",
      "(Epoch 0 / 25) train acc: 0.173000; val_acc: 0.152000\n",
      "(Epoch 1 / 25) train acc: 0.372000; val_acc: 0.376000\n",
      "(Epoch 2 / 25) train acc: 0.437000; val_acc: 0.424000\n",
      "(Iteration 501 / 6125) loss: 1.755798\n",
      "(Epoch 3 / 25) train acc: 0.455000; val_acc: 0.443000\n",
      "(Epoch 4 / 25) train acc: 0.463000; val_acc: 0.467000\n",
      "(Iteration 1001 / 6125) loss: 1.625050\n",
      "(Epoch 5 / 25) train acc: 0.486000; val_acc: 0.473000\n",
      "(Epoch 6 / 25) train acc: 0.504000; val_acc: 0.498000\n",
      "(Iteration 1501 / 6125) loss: 1.373372\n",
      "(Epoch 7 / 25) train acc: 0.561000; val_acc: 0.503000\n",
      "(Epoch 8 / 25) train acc: 0.540000; val_acc: 0.519000\n",
      "(Iteration 2001 / 6125) loss: 1.529097\n",
      "(Epoch 9 / 25) train acc: 0.554000; val_acc: 0.519000\n",
      "(Epoch 10 / 25) train acc: 0.534000; val_acc: 0.513000\n",
      "(Iteration 2501 / 6125) loss: 1.394045\n",
      "(Epoch 11 / 25) train acc: 0.575000; val_acc: 0.529000\n",
      "(Epoch 12 / 25) train acc: 0.597000; val_acc: 0.518000\n",
      "(Iteration 3001 / 6125) loss: 1.332432\n",
      "(Epoch 13 / 25) train acc: 0.602000; val_acc: 0.539000\n",
      "(Epoch 14 / 25) train acc: 0.600000; val_acc: 0.537000\n",
      "(Iteration 3501 / 6125) loss: 1.394368\n",
      "(Epoch 15 / 25) train acc: 0.608000; val_acc: 0.550000\n",
      "(Epoch 16 / 25) train acc: 0.597000; val_acc: 0.544000\n",
      "(Iteration 4001 / 6125) loss: 1.349711\n",
      "(Epoch 17 / 25) train acc: 0.638000; val_acc: 0.549000\n",
      "(Epoch 18 / 25) train acc: 0.607000; val_acc: 0.534000\n",
      "(Iteration 4501 / 6125) loss: 1.176360\n",
      "(Epoch 19 / 25) train acc: 0.625000; val_acc: 0.536000\n",
      "(Epoch 20 / 25) train acc: 0.646000; val_acc: 0.547000\n",
      "(Iteration 5001 / 6125) loss: 1.181795\n",
      "(Epoch 21 / 25) train acc: 0.647000; val_acc: 0.541000\n",
      "(Epoch 22 / 25) train acc: 0.633000; val_acc: 0.553000\n",
      "(Iteration 5501 / 6125) loss: 1.205437\n",
      "(Epoch 23 / 25) train acc: 0.656000; val_acc: 0.555000\n",
      "(Epoch 24 / 25) train acc: 0.651000; val_acc: 0.536000\n",
      "(Iteration 6001 / 6125) loss: 1.182491\n",
      "(Epoch 25 / 25) train acc: 0.644000; val_acc: 0.544000\n"
     ]
    }
   ],
   "source": [
    "# set up learning parameters\n",
    "learning_rate = 10**(-5) # initial learning rate\n",
    "weight_scales = 10**(-3) # for weight initialization\n",
    "\n",
    "# construct learning model, here is full connected neural network\n",
    "model = FullyConnectedNet(hidden_dims=[256, 256],input_dim=3*32*32,\n",
    "                          num_classes=10, weight_scale=weight_scale, \n",
    "                          dropout=0.3, use_batchnorm=True, reg=0.05,\n",
    "                          dtype=np.float64, seed=None)\n",
    "\n",
    "# construct a solver for the model above\n",
    "solver = Solver(model, data,\n",
    "                print_every=500, num_epochs=25, batch_size=200,\n",
    "                update_rule='adam',\n",
    "                optim_config={\n",
    "                  'learning_rate': learning_rate,\n",
    "                },\n",
    "                verbose = True\n",
    "         )\n",
    "\n",
    "# start training\n",
    "solver.train()"
   ]
  },
  {
   "cell_type": "markdown",
   "metadata": {},
   "source": [
    "# Test you model"
   ]
  },
  {
   "cell_type": "code",
   "execution_count": 26,
   "metadata": {
    "collapsed": false
   },
   "outputs": [
    {
     "name": "stdout",
     "output_type": "stream",
     "text": [
      "Validation set accuracy:  0.578\n",
      "Test set accuracy:  0.559\n"
     ]
    }
   ],
   "source": [
    "X_val = data['X_val']\n",
    "y_val = data['y_val']\n",
    "X_test = data['X_test']\n",
    "y_test = data['y_test']\n",
    "y_test_pred = np.argmax(best_model.loss(X_test), axis=1)\n",
    "y_val_pred = np.argmax(best_model.loss(X_val), axis=1)\n",
    "print 'Validation set accuracy: ', (y_val_pred == y_val).mean()\n",
    "print 'Test set accuracy: ', (y_test_pred == y_test).mean()"
   ]
  }
 ],
 "metadata": {
  "anaconda-cloud": {},
  "kernelspec": {
   "display_name": "Python [Root]",
   "language": "python",
   "name": "Python [Root]"
  },
  "language_info": {
   "codemirror_mode": {
    "name": "ipython",
    "version": 2
   },
   "file_extension": ".py",
   "mimetype": "text/x-python",
   "name": "python",
   "nbconvert_exporter": "python",
   "pygments_lexer": "ipython2",
   "version": "2.7.12"
  }
 },
 "nbformat": 4,
 "nbformat_minor": 0
}
